{
 "cells": [
  {
   "cell_type": "code",
   "execution_count": 3,
   "metadata": {},
   "outputs": [
    {
     "name": "stdout",
     "output_type": "stream",
     "text": [
      "Hello! Jupyter notebook!\n",
      "13\n",
      "80\n",
      "28\n",
      "3.0\n",
      "3\n",
      "1\n",
      "980188864829534682605802224588165892518744500843860189980001\n"
     ]
    }
   ],
   "source": [
    "print(\"Hello! Jupyter notebook!\")\n",
    "print(5 + 8)\n",
    "print(90 - 10)\n",
    "print(4 * 7)\n",
    "print(6 / 2)\n",
    "print(7 // 2)\n",
    "print(7 % 3)\n",
    "print(999 ** 20)"
   ]
  },
  {
   "cell_type": "code",
   "execution_count": 2,
   "metadata": {},
   "outputs": [
    {
     "name": "stdout",
     "output_type": "stream",
     "text": [
      "PostgreSQL 版本: PostgreSQL 15.8 (Debian 15.8-0+deb12u1) on aarch64-unknown-linux-gnu, compiled by gcc (Debian 12.2.0-14) 12.2.0, 64-bit\n"
     ]
    }
   ],
   "source": [
    "import psycopg2\n",
    "\n",
    "conn=psycopg2.connect(\n",
    "    host='192.168.0.252',\n",
    "    database='mydatabase_a23',\n",
    "    user='a23',\n",
    "    password='raspberry'\n",
    ")\n",
    "cur = conn.cursor()\n",
    "cur.execute(\"SELECT version();\")\n",
    "version = cur.fetchone()\n",
    "print(f\"PostgreSQL 版本: {version[0]}\")\n",
    "cur.close()\n",
    "conn.close()\n"
   ]
  },
  {
   "cell_type": "code",
   "execution_count": 4,
   "metadata": {},
   "outputs": [
    {
     "name": "stdout",
     "output_type": "stream",
     "text": [
      "PostgreSQL 版本: PostgreSQL 16.3 (Debian 16.3-1.pgdg120+1) on x86_64-pc-linux-gnu, compiled by gcc (Debian 12.2.0-14) 12.2.0, 64-bit\n"
     ]
    }
   ],
   "source": [
    "import psycopg2\n",
    "\n",
    "conn=psycopg2.connect(\n",
    "    host='dpg-crnslsl6l47c73ak9170-a.singapore-postgres.render.com',\n",
    "    database='render_postgresql_4vg2',\n",
    "    user='render_postgresql_4vg2_user',\n",
    "    password='LMOVidcpG3Zh4FhMOFjqRpKPUFLLV5sr'\n",
    ")\n",
    "cur = conn.cursor()\n",
    "cur.execute(\"SELECT version();\")\n",
    "version = cur.fetchone()\n",
    "print(f\"PostgreSQL 版本: {version[0]}\")\n",
    "cur.close()\n",
    "conn.close()\n"
   ]
  }
 ],
 "metadata": {
  "kernelspec": {
   "display_name": "venv1",
   "language": "python",
   "name": "python3"
  },
  "language_info": {
   "codemirror_mode": {
    "name": "ipython",
    "version": 3
   },
   "file_extension": ".py",
   "mimetype": "text/x-python",
   "name": "python",
   "nbconvert_exporter": "python",
   "pygments_lexer": "ipython3",
   "version": "3.10.15"
  }
 },
 "nbformat": 4,
 "nbformat_minor": 2
}
