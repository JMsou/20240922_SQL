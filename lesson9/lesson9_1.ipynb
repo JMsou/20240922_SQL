{
 "cells": [
  {
   "cell_type": "code",
   "execution_count": null,
   "metadata": {},
   "outputs": [
    {
     "name": "stdout",
     "output_type": "stream",
     "text": [
      "下載成功\n"
     ]
    },
    {
     "ename": "TypeError",
     "evalue": "pprint() missing 1 required positional argument: 'object'",
     "output_type": "error",
     "traceback": [
      "\u001b[1;31m---------------------------------------------------------------------------\u001b[0m",
      "\u001b[1;31mTypeError\u001b[0m                                 Traceback (most recent call last)",
      "Cell \u001b[1;32mIn[1], line 8\u001b[0m\n\u001b[0;32m      6\u001b[0m \u001b[38;5;28;01mif\u001b[39;00m response\u001b[38;5;241m.\u001b[39mok:\n\u001b[0;32m      7\u001b[0m     \u001b[38;5;28mprint\u001b[39m(\u001b[38;5;124m'\u001b[39m\u001b[38;5;124m下載成功\u001b[39m\u001b[38;5;124m'\u001b[39m)\n\u001b[1;32m----> 8\u001b[0m     \u001b[43mpprint\u001b[49m\u001b[43m(\u001b[49m\u001b[43m)\u001b[49m\n",
      "\u001b[1;31mTypeError\u001b[0m: pprint() missing 1 required positional argument: 'object'"
     ]
    }
   ],
   "source": [
    "import requests\n",
    "from pprint import pprint\n",
    "url = 'https://tcgbusfs.blob.core.windows.net/dotapp/youbike/v2/youbike_immediate.json'\n",
    "try:\n",
    "    response = requests.get(url)\n",
    "    response.raise_for_status()\n",
    "except:\n",
    "    print(\"出錯了\")\n",
    "else:\n",
    "    print(response.text)"
   ]
  },
  {
   "cell_type": "markdown",
   "metadata": {},
   "source": [
    "try:    \n",
    "    程式碼A(檢查有無錯誤)\n",
    "except:\n",
    "    程式碼B(有錯誤做這個)\n",
    "else:\n",
    "    程式碼C(無錯誤做這個)\n",
    "\n",
    "錯誤也有很多種類。\n",
    "可以有多個except程式碼，來對應各種錯誤"
   ]
  },
  {
   "cell_type": "code",
   "execution_count": null,
   "metadata": {},
   "outputs": [],
   "source": [
    "try:\n",
    "    raise ValueError\n",
    "    print(\"發生在raise之後\")\n",
    "except:\n",
    "    print('出錯了')\n",
    "else:\n",
    "    print('沒出錯')"
   ]
  },
  {
   "cell_type": "code",
   "execution_count": 2,
   "metadata": {},
   "outputs": [],
   "source": [
    "import psycopg2\n",
    "from dotenv import load_dotenv\n",
    "import os\n",
    "load_dotenv()\n",
    "\n",
    "conn = psycopg2.connect(host=os.environ['POSTGRE_HOST'],database=os.environ['POSTGRE_DATABASE'],user=os.environ['POSTGRE_USER'],password=os.environ['POSTGRE_PASSWORD'])\n",
    "with conn:\n",
    "    with conn.cursor() as cursor:\n",
    "        sql = '''\n",
    "        CREATE TABLE IF NOT EXISTS 站點資訊(\n",
    "        站點編號 VARCHAR(10),\n",
    "        站點名稱 VARCHAR(30) NOT NULL,\n",
    "        行政區 VARCHAR(10) NOT NULL,\n",
    "        站點地址 VARCHAR(50),\n",
    "        lat NUMERIC(15,11),\n",
    "        lng NUMERIC(15,11),\n",
    "        PRIMARY KEY(站點編號)\n",
    "        );\n",
    "\n",
    "        CREATE TABLE IF NOT EXISTS youbike(\n",
    "        日期 TIMESTAMP,\n",
    "        編號 VARCHAR(10),\n",
    "        總車輛 INTEGER,\n",
    "        可借 INTEGER,\n",
    "        可還 INTEGER,\n",
    "        活動 BOOLEAN,\n",
    "        PRIMARY KEY(日期,編號),\n",
    "        FOREIGN KEY(編號) REFERENCES 站點資訊(站點編號) \n",
    "        ON DELETE CASCADE\n",
    "        ON UPDATE CASCADE\n",
    "        );\n",
    "        '''\n",
    "        cursor.execute(sql)\n",
    "        \n",
    "conn.close()"
   ]
  },
  {
   "cell_type": "code",
   "execution_count": null,
   "metadata": {},
   "outputs": [],
   "source": [
    "conn = psycopg2.connect(host=os.environ['POSTGRE_HOST'],database=os.environ['POSTGRE_DATABASE'],user=os.environ['POSTGRE_USER'],password=os.environ['POSTGRE_PASSWORD'])\n",
    "\n",
    "with conn:\n",
    "    with conn.cursor() as cursor:\n",
    "        #insert站點資訊\n",
    "        sql = '''\n",
    "            INSERT INTO 站點資訊 \n",
    "            VALUES(%s,%s,%s,%s,%s,%s)\n",
    "            ON CONFLICT DO NOTHING;\n",
    "        '''\n",
    "        cursor.execute(sql,('500101001','YouBike2.0_捷運科技大樓站','大安區','復興南路二段235號前',25.02605,121.5436))\n",
    "\n",
    "        #插入youbike資訊\n",
    "        sql = '''\n",
    "            INSERT INTO youbike\n",
    "            VALUES(%s,%s,%s,%s,%s,%s)\n",
    "            ON CONFLICT DO NOTHING;\n",
    "        '''\n",
    "        cursor.execute(sql,('2024-02-16 10:48:19','500101001',28,1,27,True))\n",
    "\n",
    "\n",
    "conn.close()"
   ]
  }
 ],
 "metadata": {
  "kernelspec": {
   "display_name": "venv1",
   "language": "python",
   "name": "python3"
  },
  "language_info": {
   "codemirror_mode": {
    "name": "ipython",
    "version": 3
   },
   "file_extension": ".py",
   "mimetype": "text/x-python",
   "name": "python",
   "nbconvert_exporter": "python",
   "pygments_lexer": "ipython3",
   "version": "3.11.10"
  }
 },
 "nbformat": 4,
 "nbformat_minor": 2
}
