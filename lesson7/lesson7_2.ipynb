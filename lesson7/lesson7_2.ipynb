{
 "cells": [
  {
   "cell_type": "code",
   "execution_count": 73,
   "metadata": {},
   "outputs": [],
   "source": [
    "import psycopg2\n",
    "from dotenv import load_dotenv\n",
    "load_dotenv()\n",
    "\n",
    "conn =psycopg2.connect(host='192.168.0.252',database='mydatabase_a23',user='a23',password='raspberry')\n",
    "with conn:\n",
    "    with conn.cursor() as cursor:\n",
    "        sql='''\n",
    "        INSERT INTO 市場 values (%s,%s)\n",
    "        ON CONFLICT DO NOTHING;\n",
    "        '''\n",
    "        cursor.execute(sql,['^TWII','台灣'])\n",
    "        cursor.execute(sql,['^HSI','香港'])\n",
    "conn.close()"
   ]
  },
  {
   "cell_type": "code",
   "execution_count": 66,
   "metadata": {},
   "outputs": [
    {
     "name": "stderr",
     "output_type": "stream",
     "text": [
      "[*********************100%***********************]  1 of 1 completed\n"
     ]
    }
   ],
   "source": [
    "import yfinance as yf\n",
    "taiwan = yf.download('^TWII')"
   ]
  },
  {
   "cell_type": "code",
   "execution_count": null,
   "metadata": {},
   "outputs": [],
   "source": [
    "all_data = taiwan.to_dict(orient='index')\n",
    "for key,value in all_data.items():\n",
    "    date = key.date()\n",
    "    name = '^TWII'\n",
    "    print(date)\n",
    "    adj_close = value[('Adj Close', name)]\n",
    "    print(adj_close)\n",
    "    open = value[('Open', name)]\n",
    "    print(open)\n",
    "    high = value[('High', name)]\n",
    "    print(high)\n",
    "    low = value[('Low', name)]\n",
    "    print(low)\n",
    "    close = value[('Close', name)]\n",
    "    print(close)\n",
    "    volume = value[('Volume', name)]\n",
    "    print(value)\n",
    "    print(\"=========\")"
   ]
  },
  {
   "cell_type": "code",
   "execution_count": 67,
   "metadata": {},
   "outputs": [],
   "source": [
    "from decimal import Decimal\n",
    "conn =psycopg2.connect(host='192.168.0.252',database='mydatabase_a23',user='a23',password='raspberry')\n",
    "with conn:\n",
    "    all_data = taiwan.to_dict(orient='index')\n",
    "    for key,value in all_data.items():\n",
    "        date = key.date()\n",
    "        name = '^TWII'\n",
    "        adj_close = Decimal(value[('Adj Close', name)])\n",
    "        open = Decimal(value[('Open', name)])\n",
    "        high = Decimal(value[('High', name)])\n",
    "        low = Decimal(value[('Low', name)])\n",
    "        close = Decimal(value[('Close', name)])\n",
    "        volume = Decimal(value [('Volume', name)])\n",
    "        with conn.cursor() as cursor:\n",
    "            sql='''\n",
    "            INSERT INTO 股市(date,open,high,low,close,adj_close,volume,name)\n",
    "            values(%s,%s,%s,%s,%s,%s,%s,%s)\n",
    "            ON CONFLICT DO NOTHING;\n",
    "            '''\n",
    "            cursor.execute(sql,[date,open,high,low,close,adj_close,volume,name])\n",
    "conn.close()"
   ]
  },
  {
   "cell_type": "code",
   "execution_count": 69,
   "metadata": {},
   "outputs": [
    {
     "name": "stderr",
     "output_type": "stream",
     "text": [
      "[*********************100%***********************]  1 of 1 completed\n"
     ]
    }
   ],
   "source": [
    "import yfinance as yf\n",
    "hsi = yf.download('^HSI')"
   ]
  },
  {
   "cell_type": "code",
   "execution_count": null,
   "metadata": {},
   "outputs": [],
   "source": [
    "all_data = hsi.to_dict(orient='index')\n",
    "for key,value in all_data.items():\n",
    "    date = key.date()\n",
    "    name = '^HSI'\n",
    "    print(date)\n",
    "    adj_close = value[('Adj Close', name)]\n",
    "    print(adj_close)\n",
    "    open = value[('Open', name)]\n",
    "    print(open)\n",
    "    high = value[('High', name)]\n",
    "    print(high)\n",
    "    low = value[('Low', name)]\n",
    "    print(low)\n",
    "    close = value[('Close', name)]\n",
    "    print(close)\n",
    "    volume = value[('Volume', name)]\n",
    "    print(value)\n",
    "    print(\"=========\")"
   ]
  },
  {
   "cell_type": "code",
   "execution_count": 72,
   "metadata": {},
   "outputs": [],
   "source": [
    "conn = psycopg2.connect(host='192.168.0.252',database=\"mydatabase_a23\",user='a23',password='raspberry')\n",
    "with conn:\n",
    "    all_data = hsi.to_dict(orient='index')\n",
    "    for key,value in all_data.items():\n",
    "        date = key.date()\n",
    "        name = '^HSI'\n",
    "        adj_close = value[('Adj Close', name)]\n",
    "        open = value[('Open', name)]\n",
    "        high = value[('High', name)]\n",
    "        low = value[('Low', name)]\n",
    "        close = value[('Close', name)]\n",
    "        volume = value[('Volume', name)]\n",
    "        with conn.cursor() as cursor:\n",
    "            sql='''\n",
    "            INSERT INTO 股市(date,open,high,low,close,adj_close,volume,name) \n",
    "            values(%s,%s,%s,%s,%s,%s,%s,%s)\n",
    "            ON CONFLICT DO NOTHING;            \n",
    "            '''\n",
    "            cursor.execute(sql,[date,open,high,low,close,adj_close,volume,name])\n",
    "conn.close()"
   ]
  }
 ],
 "metadata": {
  "kernelspec": {
   "display_name": "venv1",
   "language": "python",
   "name": "python3"
  },
  "language_info": {
   "codemirror_mode": {
    "name": "ipython",
    "version": 3
   },
   "file_extension": ".py",
   "mimetype": "text/x-python",
   "name": "python",
   "nbconvert_exporter": "python",
   "pygments_lexer": "ipython3",
   "version": "3.11.10"
  }
 },
 "nbformat": 4,
 "nbformat_minor": 2
}
